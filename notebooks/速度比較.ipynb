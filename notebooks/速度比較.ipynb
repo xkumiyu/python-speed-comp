{
 "cells": [
  {
   "cell_type": "markdown",
   "metadata": {
    "toc": true
   },
   "source": [
    "<h1>Table of Contents<span class=\"tocSkip\"></span></h1>\n",
    "<div class=\"toc\" style=\"margin-top: 1em;\"><ul class=\"toc-item\"><li><span><a href=\"#標準入力\" data-toc-modified-id=\"標準入力-1\"><span class=\"toc-item-num\">1&nbsp;&nbsp;</span>標準入力</a></span></li><li><span><a href=\"#ソート\" data-toc-modified-id=\"ソート-2\"><span class=\"toc-item-num\">2&nbsp;&nbsp;</span>ソート</a></span><ul class=\"toc-item\"><li><span><a href=\"#実験1\" data-toc-modified-id=\"実験1-2.1\"><span class=\"toc-item-num\">2.1&nbsp;&nbsp;</span>実験1</a></span></li><li><span><a href=\"#実験2\" data-toc-modified-id=\"実験2-2.2\"><span class=\"toc-item-num\">2.2&nbsp;&nbsp;</span>実験2</a></span></li><li><span><a href=\"#実験3\" data-toc-modified-id=\"実験3-2.3\"><span class=\"toc-item-num\">2.3&nbsp;&nbsp;</span>実験3</a></span></li><li><span><a href=\"#実験4\" data-toc-modified-id=\"実験4-2.4\"><span class=\"toc-item-num\">2.4&nbsp;&nbsp;</span>実験4</a></span></li><li><span><a href=\"#実験5\" data-toc-modified-id=\"実験5-2.5\"><span class=\"toc-item-num\">2.5&nbsp;&nbsp;</span>実験5</a></span></li><li><span><a href=\"#実験6\" data-toc-modified-id=\"実験6-2.6\"><span class=\"toc-item-num\">2.6&nbsp;&nbsp;</span>実験6</a></span></li></ul></li></ul></div>"
   ]
  },
  {
   "cell_type": "code",
   "execution_count": 1,
   "metadata": {
    "ExecuteTime": {
     "end_time": "2018-08-17T09:18:29.776819Z",
     "start_time": "2018-08-17T09:18:29.770107Z"
    }
   },
   "outputs": [],
   "source": [
    "import timeit\n",
    "import random"
   ]
  },
  {
   "cell_type": "markdown",
   "metadata": {},
   "source": [
    "# 標準入力"
   ]
  },
  {
   "cell_type": "code",
   "execution_count": 23,
   "metadata": {
    "ExecuteTime": {
     "end_time": "2018-08-17T09:30:04.133319Z",
     "start_time": "2018-08-17T09:30:03.405949Z"
    }
   },
   "outputs": [],
   "source": [
    "A = [int(random.random() * 1000) for _ in range(10 ** 6)]\n",
    "with open('../data/input1.txt', mode='w') as f:\n",
    "    f.write\n",
    "    for a in A:\n",
    "        f.write(str(a) + '\\n')"
   ]
  },
  {
   "cell_type": "code",
   "execution_count": null,
   "metadata": {},
   "outputs": [],
   "source": [
    "%%timeit -r 10 -n 10\n",
    "input()"
   ]
  },
  {
   "cell_type": "markdown",
   "metadata": {},
   "source": [
    "# ソート"
   ]
  },
  {
   "cell_type": "markdown",
   "metadata": {
    "ExecuteTime": {
     "end_time": "2018-08-17T09:02:14.262859Z",
     "start_time": "2018-08-17T09:02:14.259320Z"
    }
   },
   "source": [
    "## 実験1\n",
    "\n",
    "- $N = 10^6$\n",
    "- $0 \\le A_i \\lt 10$"
   ]
  },
  {
   "cell_type": "code",
   "execution_count": 2,
   "metadata": {
    "ExecuteTime": {
     "end_time": "2018-08-17T09:18:30.084283Z",
     "start_time": "2018-08-17T09:18:29.780912Z"
    }
   },
   "outputs": [],
   "source": [
    "A = [int(random.random() * 10) for _ in range(10 ** 6)]"
   ]
  },
  {
   "cell_type": "code",
   "execution_count": 3,
   "metadata": {
    "ExecuteTime": {
     "end_time": "2018-08-17T09:18:31.351792Z",
     "start_time": "2018-08-17T09:18:30.086658Z"
    }
   },
   "outputs": [
    {
     "name": "stdout",
     "output_type": "stream",
     "text": [
      "12.6 ms ± 5.03 ms per loop (mean ± std. dev. of 10 runs, 10 loops each)\n"
     ]
    }
   ],
   "source": [
    "%%timeit -r 10 -n 10\n",
    "A.sort()"
   ]
  },
  {
   "cell_type": "code",
   "execution_count": 4,
   "metadata": {
    "ExecuteTime": {
     "end_time": "2018-08-17T09:18:32.987226Z",
     "start_time": "2018-08-17T09:18:31.355189Z"
    }
   },
   "outputs": [
    {
     "name": "stdout",
     "output_type": "stream",
     "text": [
      "16.3 ms ± 1.75 ms per loop (mean ± std. dev. of 10 runs, 10 loops each)\n"
     ]
    }
   ],
   "source": [
    "%%timeit -r 10 -n 10\n",
    "sorted(A)"
   ]
  },
  {
   "cell_type": "markdown",
   "metadata": {
    "ExecuteTime": {
     "end_time": "2018-08-17T09:12:19.778718Z",
     "start_time": "2018-08-17T09:12:19.775070Z"
    }
   },
   "source": [
    "## 実験2\n",
    "\n",
    "- $N = 10^6$\n",
    "- $0 \\le A_i \\lt 100$"
   ]
  },
  {
   "cell_type": "code",
   "execution_count": 5,
   "metadata": {
    "ExecuteTime": {
     "end_time": "2018-08-17T09:18:33.285484Z",
     "start_time": "2018-08-17T09:18:32.989492Z"
    }
   },
   "outputs": [],
   "source": [
    "A = [int(random.random() * 100) for _ in range(10 ** 6)]"
   ]
  },
  {
   "cell_type": "code",
   "execution_count": 6,
   "metadata": {
    "ExecuteTime": {
     "end_time": "2018-08-17T09:18:34.528244Z",
     "start_time": "2018-08-17T09:18:33.287713Z"
    }
   },
   "outputs": [
    {
     "name": "stdout",
     "output_type": "stream",
     "text": [
      "12.4 ms ± 6.93 ms per loop (mean ± std. dev. of 10 runs, 10 loops each)\n"
     ]
    }
   ],
   "source": [
    "%%timeit -r 10 -n 10\n",
    "A.sort()"
   ]
  },
  {
   "cell_type": "code",
   "execution_count": 7,
   "metadata": {
    "ExecuteTime": {
     "end_time": "2018-08-17T09:18:36.145154Z",
     "start_time": "2018-08-17T09:18:34.531096Z"
    }
   },
   "outputs": [
    {
     "name": "stdout",
     "output_type": "stream",
     "text": [
      "16.1 ms ± 1.25 ms per loop (mean ± std. dev. of 10 runs, 10 loops each)\n"
     ]
    }
   ],
   "source": [
    "%%timeit -r 10 -n 10\n",
    "sorted(A)"
   ]
  },
  {
   "cell_type": "markdown",
   "metadata": {
    "ExecuteTime": {
     "end_time": "2018-08-17T09:12:19.778718Z",
     "start_time": "2018-08-17T09:12:19.775070Z"
    }
   },
   "source": [
    "## 実験3\n",
    "\n",
    "- $N = 10^6$\n",
    "- $0 \\le A_i \\lt 1000$"
   ]
  },
  {
   "cell_type": "code",
   "execution_count": 8,
   "metadata": {
    "ExecuteTime": {
     "end_time": "2018-08-17T09:18:36.498215Z",
     "start_time": "2018-08-17T09:18:36.148612Z"
    }
   },
   "outputs": [],
   "source": [
    "A = [int(random.random() * 1000) for _ in range(10 ** 6)]"
   ]
  },
  {
   "cell_type": "code",
   "execution_count": 9,
   "metadata": {
    "ExecuteTime": {
     "end_time": "2018-08-17T09:18:42.521464Z",
     "start_time": "2018-08-17T09:18:36.500500Z"
    }
   },
   "outputs": [
    {
     "name": "stdout",
     "output_type": "stream",
     "text": [
      "60.2 ms ± 21.3 ms per loop (mean ± std. dev. of 10 runs, 10 loops each)\n"
     ]
    }
   ],
   "source": [
    "%%timeit -r 10 -n 10\n",
    "A.sort()"
   ]
  },
  {
   "cell_type": "code",
   "execution_count": 10,
   "metadata": {
    "ExecuteTime": {
     "end_time": "2018-08-17T09:18:50.945301Z",
     "start_time": "2018-08-17T09:18:42.524797Z"
    }
   },
   "outputs": [
    {
     "name": "stdout",
     "output_type": "stream",
     "text": [
      "84.1 ms ± 17.3 ms per loop (mean ± std. dev. of 10 runs, 10 loops each)\n"
     ]
    }
   ],
   "source": [
    "%%timeit -r 10 -n 10\n",
    "sorted(A)"
   ]
  },
  {
   "cell_type": "markdown",
   "metadata": {
    "ExecuteTime": {
     "end_time": "2018-08-17T09:12:19.778718Z",
     "start_time": "2018-08-17T09:12:19.775070Z"
    }
   },
   "source": [
    "## 実験4\n",
    "\n",
    "- $N = 10^6$\n",
    "- $0 \\le A_i \\lt 10^6$"
   ]
  },
  {
   "cell_type": "code",
   "execution_count": 17,
   "metadata": {
    "ExecuteTime": {
     "end_time": "2018-08-17T09:23:37.598121Z",
     "start_time": "2018-08-17T09:23:36.775599Z"
    }
   },
   "outputs": [],
   "source": [
    "A = [int(random.random() * 10 ** 6) for _ in range(10 ** 6)]"
   ]
  },
  {
   "cell_type": "code",
   "execution_count": 18,
   "metadata": {
    "ExecuteTime": {
     "end_time": "2018-08-17T09:23:46.650697Z",
     "start_time": "2018-08-17T09:23:37.601669Z"
    }
   },
   "outputs": [
    {
     "name": "stdout",
     "output_type": "stream",
     "text": [
      "90.4 ms ± 20.6 ms per loop (mean ± std. dev. of 10 runs, 10 loops each)\n"
     ]
    }
   ],
   "source": [
    "%%timeit -r 10 -n 10\n",
    "A.sort()"
   ]
  },
  {
   "cell_type": "code",
   "execution_count": 19,
   "metadata": {
    "ExecuteTime": {
     "end_time": "2018-08-17T09:23:54.527554Z",
     "start_time": "2018-08-17T09:23:46.654577Z"
    }
   },
   "outputs": [
    {
     "name": "stdout",
     "output_type": "stream",
     "text": [
      "78.7 ms ± 10.1 ms per loop (mean ± std. dev. of 10 runs, 10 loops each)\n"
     ]
    }
   ],
   "source": [
    "%%timeit -r 10 -n 10\n",
    "sorted(A)"
   ]
  },
  {
   "cell_type": "markdown",
   "metadata": {
    "ExecuteTime": {
     "end_time": "2018-08-17T09:12:19.778718Z",
     "start_time": "2018-08-17T09:12:19.775070Z"
    }
   },
   "source": [
    "## 実験5\n",
    "\n",
    "- $N = 10^7$\n",
    "- $0 \\le A_i \\lt 1000$"
   ]
  },
  {
   "cell_type": "code",
   "execution_count": 14,
   "metadata": {
    "ExecuteTime": {
     "end_time": "2018-08-17T09:21:03.763066Z",
     "start_time": "2018-08-17T09:21:00.802478Z"
    }
   },
   "outputs": [],
   "source": [
    "A = [int(random.random() * 1000) for _ in range(10 ** 7)]"
   ]
  },
  {
   "cell_type": "code",
   "execution_count": 15,
   "metadata": {
    "ExecuteTime": {
     "end_time": "2018-08-17T09:22:01.822553Z",
     "start_time": "2018-08-17T09:21:03.766712Z"
    }
   },
   "outputs": [
    {
     "name": "stdout",
     "output_type": "stream",
     "text": [
      "580 ms ± 90 ms per loop (mean ± std. dev. of 10 runs, 10 loops each)\n"
     ]
    }
   ],
   "source": [
    "%%timeit -r 10 -n 10\n",
    "A.sort()"
   ]
  },
  {
   "cell_type": "code",
   "execution_count": 16,
   "metadata": {
    "ExecuteTime": {
     "end_time": "2018-08-17T09:23:36.769855Z",
     "start_time": "2018-08-17T09:22:01.825315Z"
    }
   },
   "outputs": [
    {
     "name": "stdout",
     "output_type": "stream",
     "text": [
      "949 ms ± 90.6 ms per loop (mean ± std. dev. of 10 runs, 10 loops each)\n"
     ]
    }
   ],
   "source": [
    "%%timeit -r 10 -n 10\n",
    "sorted(A)"
   ]
  },
  {
   "cell_type": "markdown",
   "metadata": {},
   "source": [
    "## 実験6\n",
    "\n",
    "- $N = 10^6$\n",
    "- $0 \\le A_i \\lt 1$\n",
    "- $A_i$ は浮動小数点数"
   ]
  },
  {
   "cell_type": "code",
   "execution_count": 11,
   "metadata": {
    "ExecuteTime": {
     "end_time": "2018-08-17T09:18:51.141544Z",
     "start_time": "2018-08-17T09:18:50.949782Z"
    }
   },
   "outputs": [],
   "source": [
    "A = [random.random() for _ in range(10 ** 6)]"
   ]
  },
  {
   "cell_type": "code",
   "execution_count": 12,
   "metadata": {
    "ExecuteTime": {
     "end_time": "2018-08-17T09:19:04.555097Z",
     "start_time": "2018-08-17T09:18:51.145618Z"
    }
   },
   "outputs": [
    {
     "name": "stdout",
     "output_type": "stream",
     "text": [
      "134 ms ± 29.3 ms per loop (mean ± std. dev. of 10 runs, 10 loops each)\n"
     ]
    }
   ],
   "source": [
    "%%timeit -r 10 -n 10\n",
    "A.sort()"
   ]
  },
  {
   "cell_type": "code",
   "execution_count": 13,
   "metadata": {
    "ExecuteTime": {
     "end_time": "2018-08-17T09:19:19.631366Z",
     "start_time": "2018-08-17T09:19:04.561533Z"
    }
   },
   "outputs": [
    {
     "name": "stdout",
     "output_type": "stream",
     "text": [
      "151 ms ± 21.9 ms per loop (mean ± std. dev. of 10 runs, 10 loops each)\n"
     ]
    }
   ],
   "source": [
    "%%timeit -r 10 -n 10\n",
    "sorted(A)"
   ]
  },
  {
   "cell_type": "code",
   "execution_count": null,
   "metadata": {},
   "outputs": [],
   "source": []
  }
 ],
 "metadata": {
  "kernelspec": {
   "display_name": "Python 3",
   "language": "python",
   "name": "python3"
  },
  "language_info": {
   "codemirror_mode": {
    "name": "ipython",
    "version": 3
   },
   "file_extension": ".py",
   "mimetype": "text/x-python",
   "name": "python",
   "nbconvert_exporter": "python",
   "pygments_lexer": "ipython3",
   "version": "3.5.5"
  },
  "toc": {
   "nav_menu": {},
   "number_sections": true,
   "sideBar": true,
   "skip_h1_title": false,
   "toc_cell": true,
   "toc_position": {},
   "toc_section_display": "block",
   "toc_window_display": true
  }
 },
 "nbformat": 4,
 "nbformat_minor": 2
}
